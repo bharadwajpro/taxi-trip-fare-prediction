{
 "cells": [
  {
   "cell_type": "code",
   "execution_count": 1,
   "id": "6b4058f3",
   "metadata": {},
   "outputs": [],
   "source": [
    "import lightgbm as lgbm\n",
    "\n",
    "lgbm_model = lgbm.Booster(model_file='lgbm.model')"
   ]
  },
  {
   "cell_type": "code",
   "execution_count": 4,
   "id": "7aac5f08",
   "metadata": {},
   "outputs": [],
   "source": [
    "import onnxmltools\n",
    "from onnxconverter_common.data_types import FloatTensorType\n",
    "\n",
    "initial_type = [('float_input', FloatTensorType((None, 9)))]\n",
    "lgbm_onnx = onnxmltools.convert_lightgbm(lgbm_model, initial_types=initial_type, target_opset=8)"
   ]
  },
  {
   "cell_type": "code",
   "execution_count": 5,
   "id": "9a1185ad",
   "metadata": {},
   "outputs": [],
   "source": [
    "onnxmltools.utils.save_model(lgbm_onnx, 'lgbm.onnx')"
   ]
  },
  {
   "cell_type": "code",
   "execution_count": 2,
   "id": "c85abf89",
   "metadata": {},
   "outputs": [
    {
     "name": "stdout",
     "output_type": "stream",
     "text": [
      "input_1: unk__6, 9, \n"
     ]
    }
   ],
   "source": [
    "import onnx\n",
    "\n",
    "model = onnx.load(r\"dl.onnx\")\n",
    "\n",
    "# The model is represented as a protobuf structure and it can be accessed\n",
    "# using the standard python-for-protobuf methods\n",
    "\n",
    "# iterate through inputs of the graph\n",
    "for input in model.graph.input:\n",
    "    print (input.name, end=\": \")\n",
    "    # get type of input tensor\n",
    "    tensor_type = input.type.tensor_type\n",
    "    # check if it has a shape:\n",
    "    if (tensor_type.HasField(\"shape\")):\n",
    "        # iterate through dimensions of the shape:\n",
    "        for d in tensor_type.shape.dim:\n",
    "            # the dimension may have a definite (integer) value or a symbolic identifier or neither:\n",
    "            if (d.HasField(\"dim_value\")):\n",
    "                print (d.dim_value, end=\", \")  # known dimension\n",
    "            elif (d.HasField(\"dim_param\")):\n",
    "                print (d.dim_param, end=\", \")  # unknown dimension with symbolic name\n",
    "            else:\n",
    "                print (\"?\", end=\", \")  # unknown dimension with no name\n",
    "    else:\n",
    "        print (\"unknown rank\", end=\"\")\n",
    "    print()"
   ]
  }
 ],
 "metadata": {
  "kernelspec": {
   "display_name": "Python 3 (ipykernel)",
   "language": "python",
   "name": "python3"
  },
  "language_info": {
   "codemirror_mode": {
    "name": "ipython",
    "version": 3
   },
   "file_extension": ".py",
   "mimetype": "text/x-python",
   "name": "python",
   "nbconvert_exporter": "python",
   "pygments_lexer": "ipython3",
   "version": "3.9.12"
  }
 },
 "nbformat": 4,
 "nbformat_minor": 5
}
