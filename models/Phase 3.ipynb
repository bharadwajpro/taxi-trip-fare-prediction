{
 "cells": [
  {
   "cell_type": "code",
   "execution_count": 1,
   "id": "6b4058f3",
   "metadata": {},
   "outputs": [],
   "source": [
    "import lightgbm as lgbm\n",
    "\n",
    "lgbm_model = lgbm.Booster(model_file='lgbm.model')"
   ]
  },
  {
   "cell_type": "code",
   "execution_count": 4,
   "id": "7aac5f08",
   "metadata": {},
   "outputs": [],
   "source": [
    "import onnxmltools\n",
    "from onnxconverter_common.data_types import FloatTensorType\n",
    "\n",
    "initial_type = [('float_input', FloatTensorType((None, 9)))]\n",
    "lgbm_onnx = onnxmltools.convert_lightgbm(lgbm_model, initial_types=initial_type, target_opset=8)"
   ]
  },
  {
   "cell_type": "code",
   "execution_count": 5,
   "id": "9a1185ad",
   "metadata": {},
   "outputs": [],
   "source": [
    "onnxmltools.utils.save_model(lgbm_onnx, 'lgbm.onnx')"
   ]
  }
 ],
 "metadata": {
  "kernelspec": {
   "display_name": "Python 3 (ipykernel)",
   "language": "python",
   "name": "python3"
  },
  "language_info": {
   "codemirror_mode": {
    "name": "ipython",
    "version": 3
   },
   "file_extension": ".py",
   "mimetype": "text/x-python",
   "name": "python",
   "nbconvert_exporter": "python",
   "pygments_lexer": "ipython3",
   "version": "3.9.12"
  }
 },
 "nbformat": 4,
 "nbformat_minor": 5
}
